{
 "cells": [
  {
   "cell_type": "markdown",
   "id": "aa10b066",
   "metadata": {},
   "source": [
    "# DECISION CONTROL:"
   ]
  },
  {
   "cell_type": "raw",
   "id": "ffc9c48d",
   "metadata": {},
   "source": [
    "Decision control in Python, as in most programming languages, refers to the ability of the program to make decisions based on certain conditions, leading to different execution paths. This is typically achieved using conditional statements that evaluate a condition and then execute specific blocks of code based on the result of that evaluation. The primary constructs for decision control in Python are:\n",
    "\n",
    "if, elif, and else statements\n",
    "\n",
    "Python also allows a one-line if statement for simple decisions:"
   ]
  },
  {
   "cell_type": "code",
   "execution_count": 1,
   "id": "bdfa629e",
   "metadata": {},
   "outputs": [
    {
     "name": "stdout",
     "output_type": "stream",
     "text": [
      "what is your age?33\n",
      "enter your name.....jasyot\n",
      "The lenght of your name is 6\n"
     ]
    }
   ],
   "source": [
    "%run A1_Module.ipynb\n",
    "\n",
    "x=int(input(\"what is your age?\"))\n",
    "\n",
    "if x>20: myfunc()"
   ]
  },
  {
   "cell_type": "raw",
   "id": "15138318",
   "metadata": {},
   "source": [
    "For simple assignments based on conditions, Python supports a one-line if-else construct known as the ternary operator:"
   ]
  },
  {
   "cell_type": "code",
   "execution_count": 2,
   "id": "5c176031",
   "metadata": {},
   "outputs": [
    {
     "name": "stdout",
     "output_type": "stream",
     "text": [
      "the condition of if actioned\n"
     ]
    }
   ],
   "source": [
    "variable = print(\"the condition of if actioned\") if x>20 else print(\"the condition of else actioned\")"
   ]
  },
  {
   "cell_type": "markdown",
   "id": "04f19bb9",
   "metadata": {},
   "source": [
    "# MATCH CASE:"
   ]
  },
  {
   "cell_type": "raw",
   "id": "5fa5647a",
   "metadata": {},
   "source": [
    "The match statement provides a more powerful and expressive way of handling complex conditional logic compared to traditional if-elif-else chains. Basic syntax is:"
   ]
  },
  {
   "cell_type": "code",
   "execution_count": null,
   "id": "342ed12f",
   "metadata": {},
   "outputs": [],
   "source": [
    "match subject:\n",
    "    case pattern1:\n",
    "        # code block for pattern1\n",
    "    case pattern2:\n",
    "        # code block for pattern2\n",
    "    ...\n",
    "    case _:\n",
    "        # code block for default case (optional)\n",
    "        \n",
    "#match and case are soft keywords in python that's why the color did not change when i wrote match above."
   ]
  },
  {
   "cell_type": "raw",
   "id": "c88c0e40",
   "metadata": {},
   "source": [
    "subject: is the value you want to match against.\n",
    "pattern: can be a literal, a variable, a tuple, a class, etc.\n",
    "\n",
    "The case keywords are followed by patterns to match against the subject.\n",
    "The underscore _ is used as a wildcard or default case, similar to else in an if statement."
   ]
  },
  {
   "cell_type": "code",
   "execution_count": 3,
   "id": "df107be7",
   "metadata": {},
   "outputs": [
    {
     "name": "stdout",
     "output_type": "stream",
     "text": [
      "One\n",
      "Something else\n"
     ]
    }
   ],
   "source": [
    "#example:\n",
    "\n",
    "def describe_number(number):\n",
    "    match number:\n",
    "        case 1:\n",
    "            return \"One\"\n",
    "        case 2:\n",
    "            return \"Two\"\n",
    "        case _:\n",
    "            return \"Something else\"\n",
    "\n",
    "print(describe_number(1))  # Outputs: One\n",
    "print(describe_number(3))  # Outputs: Something else"
   ]
  },
  {
   "cell_type": "code",
   "execution_count": 8,
   "id": "2f8d7676",
   "metadata": {},
   "outputs": [
    {
     "name": "stdout",
     "output_type": "stream",
     "text": [
      "enter the number: 60\n",
      "matched by case y3\n"
     ]
    }
   ],
   "source": [
    "y=int(input(\"enter the number: \"))\n",
    "y2=100\n",
    "match y:\n",
    "    case y1 if y1 > y2:\n",
    "        print(\"matched by case y1\")\n",
    "    case y3 if y3<y2:\n",
    "        print(\"matched by case y3\")"
   ]
  },
  {
   "cell_type": "markdown",
   "id": "6d4dfe4d",
   "metadata": {},
   "source": [
    "# PROBLEM:"
   ]
  },
  {
   "cell_type": "raw",
   "id": "70d27ca8",
   "metadata": {},
   "source": [
    "You are to write a Python program that calculates letter grades for students based on their score. The program will take a numerical score (0 to 100) as input and output the corresponding letter grade.\n",
    "\n",
    "Part 1: Using if-else Statements\n",
    "Write a function calculate_grade_if_else(score) that takes a numerical score and returns a letter grade based on the following criteria:\n",
    "\n",
    "90 to 100: \"A\"\n",
    "80 to 89: \"B\"\n",
    "70 to 79: \"C\"\n",
    "60 to 69: \"D\"\n",
    "Below 60: \"F\"\n",
    "\n",
    "Part 2: Using the match Statement\n",
    "Write another function calculate_grade_match(score) that does the same thing but uses the match statement for decision control.\n",
    "\n",
    "Additional Challenge\n",
    "For an extra challenge, enhance your program to handle invalid input, such as negative scores or scores higher than 100, by raising an exception or returning a custom error message"
   ]
  },
  {
   "cell_type": "code",
   "execution_count": null,
   "id": "7b127fce",
   "metadata": {},
   "outputs": [],
   "source": [
    "print(calculate_grade_if_else(85))  # Should output: B\n",
    "print(calculate_grade_match(92))  # Should output: A"
   ]
  },
  {
   "cell_type": "code",
   "execution_count": 10,
   "id": "2edce2bf",
   "metadata": {},
   "outputs": [
    {
     "name": "stdout",
     "output_type": "stream",
     "text": [
      "enter the marks33\n",
      "your grade is F\n"
     ]
    }
   ],
   "source": [
    "#If Else Statement\n",
    "\n",
    "def calculate_grade_if_else():\n",
    "    \n",
    "    score=int(input(\"enter the marks\"))\n",
    "    \n",
    "    if marks in range(90,101):\n",
    "        print(\"your grade is A\")\n",
    "        \n",
    "    if marks in range(80,90):\n",
    "        print(\"your grade is B\")\n",
    "        \n",
    "    if marks in range(70,80):\n",
    "        print(\"your grade is C\")\n",
    "        \n",
    "    if marks in range(60,70):\n",
    "        print(\"your grade is D\")\n",
    "    \n",
    "    if marks <60:\n",
    "        print(\"your grade is F\")\n",
    "\n",
    "calculate_grade_if_else()"
   ]
  },
  {
   "cell_type": "code",
   "execution_count": 12,
   "id": "39f5f626",
   "metadata": {},
   "outputs": [
    {
     "name": "stdout",
     "output_type": "stream",
     "text": [
      "B\n",
      "A\n",
      "Invalid score\n"
     ]
    }
   ],
   "source": [
    "def calculate_grade_match(score):\n",
    "    \n",
    "    match score:\n",
    "        case s if 90 <= s <= 100:\n",
    "            return \"A\"\n",
    "        case s if 80 <= s < 90:\n",
    "            return \"B\"\n",
    "        case s if 70 <= s < 80:\n",
    "            return \"C\"\n",
    "        case s if 60 <= s < 70:\n",
    "            return \"D\"\n",
    "        case s if 0 <= s < 60:\n",
    "            return \"F\"\n",
    "        case _:\n",
    "            return \"Invalid score\"\n",
    "\n",
    "# Test the function\n",
    "print(calculate_grade_match(85))  # Should output: B\n",
    "print(calculate_grade_match(92))  # Should output: A\n",
    "print(calculate_grade_match(110))  # Should output: Invalid score"
   ]
  },
  {
   "cell_type": "markdown",
   "id": "f57b9969",
   "metadata": {},
   "source": [
    "# ITERATIVE CONTROL:"
   ]
  },
  {
   "cell_type": "raw",
   "id": "70995dfb",
   "metadata": {},
   "source": [
    "Iterative control in Python refers to the process of executing a block of code repeatedly, a certain number of times or until a certain condition is met. This is typically achieved using loops, and Python provides two primary types of loops for iterative control: \n",
    "\n",
    "for loops and while loops. I am not covering how the loops work, its quite basic so we will just run through some of the tuff problems later. \n",
    "\n",
    "The break statement is used to exit a loop prematurely. When Python encounters a break statement, it immediately stops the current loop's execution and proceeds with the next line of code after the loop.\n",
    "\n",
    "The continue statement is used to skip the current iteration of a loop and proceed to the next iteration. It stops executing the rest of the code in that loop iteration and \"continues\" with the next iteration.\n",
    "\n",
    "The else block in a for loop is a bit different from its usage in conditional statements. It's executed when the loop finishes normally (i.e., when the loop is not terminated by a break statement)."
   ]
  },
  {
   "cell_type": "code",
   "execution_count": 13,
   "id": "f370b149",
   "metadata": {},
   "outputs": [
    {
     "name": "stdout",
     "output_type": "stream",
     "text": [
      "0\n",
      "1\n",
      "2\n",
      "3\n",
      "4\n",
      "Loop completed normally.\n"
     ]
    }
   ],
   "source": [
    "for i in range(5):\n",
    "    print(i)\n",
    "    \n",
    "else:\n",
    "    print(\"Loop completed normally.\")"
   ]
  }
 ],
 "metadata": {
  "kernelspec": {
   "display_name": "Python 3 (ipykernel)",
   "language": "python",
   "name": "python3"
  },
  "language_info": {
   "codemirror_mode": {
    "name": "ipython",
    "version": 3
   },
   "file_extension": ".py",
   "mimetype": "text/x-python",
   "name": "python",
   "nbconvert_exporter": "python",
   "pygments_lexer": "ipython3",
   "version": "3.11.7"
  }
 },
 "nbformat": 4,
 "nbformat_minor": 5
}
