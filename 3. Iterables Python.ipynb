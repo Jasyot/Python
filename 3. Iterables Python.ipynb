{
 "cells": [
  {
   "cell_type": "markdown",
   "id": "45ef921d",
   "metadata": {},
   "source": [
    "# ITERABLES:"
   ]
  },
  {
   "cell_type": "raw",
   "id": "805f827a",
   "metadata": {},
   "source": [
    "In Python, iterables are objects that can return their members one at a time, allowing them to be iterated over in a loop. Most commonly, iterables include data structures that can hold multiple items, such as:\n",
    "\n",
    "    1.Lists: Ordered collections of items, which can be of varying data types.\n",
    "\n",
    "    2.Tuples: Similar to lists, but immutable (cannot be modified after creation).\n",
    "\n",
    "    3.Strings: Sequences of characters; each character is an iterable element.\n",
    "\n",
    "    4.Dictionaries: Collections of key-value pairs; keys or values or both together can be iterated over.\n",
    "\n",
    "    5.Sets: Unordered collections of unique elements.\n",
    "\n",
    "    6.Files: When you open a file in Python, you can iterate over its lines.\n",
    "    \n",
    "In Python, the ability to iterate is not limited to built-in data types. You can make your own classes iterable by defining the __iter__() and __next__() methods in the class definition, which are part of Python's iterator protocol."
   ]
  },
  {
   "cell_type": "raw",
   "id": "87c2b8c5",
   "metadata": {},
   "source": [
    "An iterator (not iterable) is an object that represents a stream of data returned one element at a time. Any object that has an __iter__() method that returns an iterator, or a __getitem__() method that can take sequential indexes, is an iterable. The iterator objects themselves are required to support the following two methods:\n",
    "\n",
    "__iter__() method, which returns the iterator object itself. This is used in for and in statements.\n",
    "__next__() method, which returns the next item in the sequence and raises the StopIteration exception when no more items are available.\n",
    "\n",
    "By using iterables and iterators, Python provides a flexible, powerful way of working with sequences of items in a memory-efficient and Pythonic manner.\n",
    "\n",
    "Iterator: It do iteration on a iterable. [karta hai iterate in a iterables]\n",
    "Iterables: It gets iterated by an iterator. [Ye data type hote hai iterarte by iterator]"
   ]
  },
  {
   "cell_type": "markdown",
   "id": "401cdb88",
   "metadata": {},
   "source": [
    "# RANGE FUNCTION:"
   ]
  },
  {
   "cell_type": "raw",
   "id": "c741b109",
   "metadata": {},
   "source": [
    "The range() function in Python is a built-in function used to generate a sequence of numbers. It's often used for looping a specific number of times in for loops. The range() function is particularly useful because it generates the required sequence of numbers on the fly, instead of storing them in memory, making it more efficient, especially for large ranges."
   ]
  },
  {
   "cell_type": "raw",
   "id": "92b26d23",
   "metadata": {},
   "source": [
    "The range() function can take one, two, or three arguments:\n",
    "\n",
    "1.range(stop): Generates a sequence of numbers from 0 to stop-1.\n",
    "2.range(start, stop): Generates a sequence of numbers from start to stop-1.\n",
    "3.range(start, stop, step): Generates a sequence of numbers from start to stop-1, incrementing by step.\n",
    "\n",
    "Parameters\n",
    "1.start: The starting value of the sequence (inclusive). If omitted, it defaults to 0.\n",
    "2.stop: The end value of the sequence (exclusive). This parameter is required.\n",
    "3.step: The difference between each number in the sequence. If omitted, it defaults to 1. The step can be positive or negative, but not zero."
   ]
  },
  {
   "cell_type": "code",
   "execution_count": 1,
   "id": "94aaf8d8",
   "metadata": {},
   "outputs": [
    {
     "name": "stdout",
     "output_type": "stream",
     "text": [
      "10\n",
      "8\n",
      "6\n",
      "4\n",
      "2\n"
     ]
    }
   ],
   "source": [
    "for i in range(10, 0, -2):\n",
    "    print(i)  # Outputs: 10, 8, 6, 4, 2"
   ]
  }
 ],
 "metadata": {
  "kernelspec": {
   "display_name": "Python 3 (ipykernel)",
   "language": "python",
   "name": "python3"
  },
  "language_info": {
   "codemirror_mode": {
    "name": "ipython",
    "version": 3
   },
   "file_extension": ".py",
   "mimetype": "text/x-python",
   "name": "python",
   "nbconvert_exporter": "python",
   "pygments_lexer": "ipython3",
   "version": "3.11.7"
  }
 },
 "nbformat": 4,
 "nbformat_minor": 5
}
