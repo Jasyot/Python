{
 "cells": [
  {
   "cell_type": "raw",
   "id": "48cb7cda",
   "metadata": {},
   "source": [
    "Global Variables: Any function in the program can use them\n",
    "Local Variables: It can be used only by the function in its defined.\n",
    "\n",
    "To make a variable 'Global' use key word \"Global\"!"
   ]
  },
  {
   "cell_type": "code",
   "execution_count": null,
   "id": "de9fcfb3",
   "metadata": {},
   "outputs": [],
   "source": [
    "# Example:"
   ]
  },
  {
   "cell_type": "code",
   "execution_count": 2,
   "id": "72e47b9b",
   "metadata": {},
   "outputs": [
    {
     "name": "stdout",
     "output_type": "stream",
     "text": [
      "30\n"
     ]
    },
    {
     "data": {
      "text/plain": [
       "30"
      ]
     },
     "execution_count": 2,
     "metadata": {},
     "output_type": "execute_result"
    }
   ],
   "source": [
    "def func():\n",
    "    \n",
    "    l1=10 #local\n",
    "    l2=20 #local\n",
    "    \n",
    "    sum_l=l1+l2\n",
    "    print(sum_l)\n",
    "    return sum_l\n",
    "func()"
   ]
  },
  {
   "cell_type": "code",
   "execution_count": 4,
   "id": "c97eafab",
   "metadata": {},
   "outputs": [
    {
     "data": {
      "text/plain": [
       "125"
      ]
     },
     "execution_count": 4,
     "metadata": {},
     "output_type": "execute_result"
    }
   ],
   "source": [
    "g=10\n",
    "\n",
    "def func():\n",
    "    l_1=12\n",
    "    l_3=13\n",
    "    g=100\n",
    "    sum_l=l_1+l_3+g\n",
    "    return sum_l\n",
    "func()"
   ]
  }
 ],
 "metadata": {
  "kernelspec": {
   "display_name": "Python 3 (ipykernel)",
   "language": "python",
   "name": "python3"
  },
  "language_info": {
   "codemirror_mode": {
    "name": "ipython",
    "version": 3
   },
   "file_extension": ".py",
   "mimetype": "text/x-python",
   "name": "python",
   "nbconvert_exporter": "python",
   "pygments_lexer": "ipython3",
   "version": "3.11.7"
  }
 },
 "nbformat": 4,
 "nbformat_minor": 5
}
