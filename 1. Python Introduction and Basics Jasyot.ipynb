{
 "cells": [
  {
   "cell_type": "markdown",
   "id": "fd03dc72",
   "metadata": {},
   "source": [
    "# INTRODUCTION OF PYTHON LANGUAGE AND ITS HISTORY:"
   ]
  },
  {
   "cell_type": "raw",
   "id": "78a60780",
   "metadata": {},
   "source": [
    "Developed in 1980 by Guido Van Rossum. \n",
    "\n",
    "Python is a multi paradigm language. Meaning it supports multiple programming paradigms, allowing programmers to choose the most suitable style for a given task. These paradigms include:\n",
    "\n",
    "1.Procedural Programming: \n",
    "Like C, Python supports procedural programming. Functions can be created, and code   can be organized in a linear fashion, executing procedures or functions in a sequence or based on conditions.\n",
    "\n",
    "2.Object-Oriented Programming (OOP): \n",
    "Python strongly supports OOP. You can define classes, create objects, and \n",
    "encapsulate attributes and methods. This allows for code reuse and modularity, which are key principles of OOP.\n",
    "\n",
    "3.Functional Programming: \n",
    "Python includes features like first-class functions, anonymous functions (lambdas), \n",
    "higher-order functions (functions that can accept other functions as arguments or return them), and list \n",
    "comprehensions. While it is not purely functional like Haskell, these features enable a functional programming \n",
    "style.\n",
    "\n",
    "4.Imperative Programming: \n",
    "Python supports this style as well, where the code consists of a series of statements \n",
    "that change the state of the program.\n",
    "\n",
    "5.Declarative Programming:\n",
    "While not as pronounced as in languages specifically designed for this paradigm (like \n",
    "SQL or HTML), Python can be used in a declarative style, especially in areas like data analysis, where you can \n",
    "describe what you want to achieve (e.g., with pandas or SQL-like libraries) without detailing the steps to get \n",
    "there.\n",
    "\n",
    "\n",
    "\n",
    "Python has automatic memory management. Automatic memory management in Python is primarily handled through a mechanism known as garbage collection. This process is crucial in Python, as it automates the management of memory allocation and deallocation, freeing the programmer from manually handling memory (which can be error-prone in languages where manual memory management is required).\n",
    "\n",
    "Python is platform indipendent. This means that Python code can generally run on any operating system (OS) without requiring changes to the code. The key reasons for Python's platform independence are:\n",
    "\n",
    "1.Bytecode Compilation: When you run a Python program, the Python interpreter first compiles the source code into \n",
    "a platform-independent bytecode. This bytecode is a lower-level, platform-neutral representation of your source \n",
    "code\n",
    "    \n",
    "2.Python Virtual Machine (PVM): The bytecode is then executed by the Python Virtual Machine (PVM). The PVM is \n",
    "part of the Python interpreter, and it's responsible for executing the bytecode. Since the PVM is available for \n",
    "various operating systems (like Windows, MacOS, and various distributions of Linux/Unix), the same Python \n",
    "bytecode can be executed on any platform where the PVM is present."
   ]
  },
  {
   "cell_type": "markdown",
   "id": "ea5deea7",
   "metadata": {},
   "source": [
    "# IMPORTANT CONCEPTS BEFORE WE START"
   ]
  },
  {
   "cell_type": "markdown",
   "id": "6cf4f99c",
   "metadata": {},
   "source": [
    "#### OBJECT IN PYTHON"
   ]
  },
  {
   "cell_type": "raw",
   "id": "ead9ec32",
   "metadata": {},
   "source": [
    "Objects in python: Objects are memory space that is created on the system RAM. It is a memory block in which we store/put any data type. There are three types of object in python:\n",
    "\n",
    "1. Instance Object\n",
    "\n",
    "2. Class Object\n",
    "\n",
    "3. Function Object\n",
    "\n",
    "1.Creation of instance object in memory: \n",
    "An instance object in Python is created when you instantiate a class; that is, when you create an individual object from a class definition. Here, we are initiating the class int in python when we define x=5. The data type int (5) will be in an instance object that's created while making the assignment.\n",
    "\n",
    "2.Creation of function object in memory: \n",
    "A function object is created when you define a function using the def keyword. Example:\n",
    "\n",
    "def greet(name):\n",
    "    return f\"Hello, {name}!\"\n",
    "\n",
    "\"greet\" is a function object. After defining it, you can use greet like any other object: you can store it in a variable (say_hello), pass it to another function (execute_function), and so on. Function object is also created when we execute a pre defined function in python such as print function\n",
    "\n",
    "3. Creation of class object in memory: A class object is created when you define a class using the class keyword."
   ]
  },
  {
   "cell_type": "raw",
   "id": "f9a57445",
   "metadata": {},
   "source": [
    "Whenever we use any function with () in the end it means that the function is being called. For example:"
   ]
  },
  {
   "cell_type": "code",
   "execution_count": 23,
   "id": "549fe928",
   "metadata": {},
   "outputs": [
    {
     "name": "stdout",
     "output_type": "stream",
     "text": [
      "JG\n"
     ]
    }
   ],
   "source": [
    "print(\"JG\") #Means print is a function but when we do print() its is being called from the predefined function object."
   ]
  },
  {
   "cell_type": "code",
   "execution_count": 24,
   "id": "bcfb149d",
   "metadata": {},
   "outputs": [
    {
     "data": {
      "text/plain": [
       "<function print(*args, sep=' ', end='\\n', file=None, flush=False)>"
      ]
     },
     "execution_count": 24,
     "metadata": {},
     "output_type": "execute_result"
    }
   ],
   "source": [
    "print #This will just give the information about the function."
   ]
  },
  {
   "cell_type": "code",
   "execution_count": 8,
   "id": "2539642f",
   "metadata": {},
   "outputs": [
    {
     "name": "stdout",
     "output_type": "stream",
     "text": [
      "The memonry location of print function object is:\n"
     ]
    },
    {
     "data": {
      "text/plain": [
       "4309212912"
      ]
     },
     "execution_count": 8,
     "metadata": {},
     "output_type": "execute_result"
    }
   ],
   "source": [
    "id(print(\"The memonry location of print function object is:\"))"
   ]
  },
  {
   "cell_type": "markdown",
   "id": "ce34e756",
   "metadata": {},
   "source": [
    "#### PRE DEFINED FUNCTION IN PYTHON"
   ]
  },
  {
   "cell_type": "raw",
   "id": "1f34f797",
   "metadata": {},
   "source": [
    "There are multiple functions in python that are built in. These functions are universnal and can be used on any iterable. Most common pre defined functions are:\n",
    "\n",
    "len(obj): \n",
    "Returns the number of items in an object (like a list, tuple, set, dictionary, string).\n",
    "\n",
    "eval():\n",
    "is a built-in function that parses and evaluates a given expression, which is passed to it as a string. It returns the result of the evaluated expression.\n",
    "\n",
    "print(obj, ...): \n",
    "Prints objects to the text stream file, separated by sep and followed by end. sep, end, file, and flush are keyword arguments with default values.\n",
    "\n",
    "type(obj): \n",
    "Returns the type of an object.\n",
    "\n",
    "range(start, stop[, step]): \n",
    "Generates a sequence of numbers. Commonly used in for loops.\n",
    "\n",
    "int(x): \n",
    "Converts x to an integer.\n",
    "\n",
    "float(x): \n",
    "Converts x to a floating-point number.\n",
    "\n",
    "str(x): \n",
    "Converts object x to a string representation.\n",
    "\n",
    "list(iterable): \n",
    "Constructs a list from an iterable.\n",
    "\n",
    "**dict(kwarg): \n",
    "Creates a new dictionary.\n",
    "\n",
    "tuple(iterable): \n",
    "Creates a tuple from an iterable.\n",
    "\n",
    "set(iterable): \n",
    "Creates a new set object.\n",
    "\n",
    "sorted(iterable, key=None, reverse=False): \n",
    "Returns a new sorted list from the elements in iterable.\n",
    "\n",
    "sum(iterable[, start]): \n",
    "Sums start and the items of an iterable from left to right and returns the total.\n",
    "\n",
    "map(function, iterable, ...): \n",
    "Applies function to every item of iterable and returns a map object.\n",
    "\n",
    "filter(function, iterable): \n",
    "Constructs an iterator from elements of iterable for which function returns true.\n",
    "\n",
    "zip(*iterables): \n",
    "Makes an iterator that aggregates elements from each of the iterables.\n",
    "\n",
    "enumerate(iterable, start=0): \n",
    "Returns an enumerate object, iterable must be a sequence, an iterator, or some other object which supports iteration.\n",
    "\n",
    "max(iterable, *[, key, default]):\n",
    "Returns the largest item in an iterable or the largest of two or more arguments.\n",
    "\n",
    "min(iterable, *[, key, default]):\n",
    "Returns the smallest item in an iterable or the smallest of two or more arguments.\n",
    "\n",
    "abs(x): \n",
    "Returns the absolute value of a number.\n",
    "\n",
    "round(number[, ndigits]):\n",
    "Rounds a number to a given precision in decimal digits.\n",
    "\n",
    "input([prompt]):\n",
    "Reads a line from input, converts it to a string (stripping a trailing newline), and returns that.\n",
    "\n",
    "getattr(object, name[, default]): \n",
    "Returns the value of the named attribute of object.\n",
    "\n",
    "setattr(object, name, value): \n",
    "Sets the value of the attribute of object with name to value.\n",
    "\n",
    "len(s): \n",
    "Returns the length (the number of items) of an object.\n",
    "\n",
    "all(iterable): \n",
    "Returns True if all elements of the iterable are true (or if the iterable is empty).\n",
    "\n",
    "any(iterable): \n",
    "Returns True if any element of the iterable is true. If the iterable is empty, returns False.\n",
    "\n",
    "help([object]): \n",
    "Invokes the built-in help system."
   ]
  },
  {
   "cell_type": "markdown",
   "id": "a4cd5f71",
   "metadata": {},
   "source": [
    "# VARIABLES:"
   ]
  },
  {
   "cell_type": "raw",
   "id": "bc398e90",
   "metadata": {},
   "source": [
    "Python is dynamically typed language. We dont need to declare a variable as variable before using that, we can directly use the variable. Unlike other languages like C and C ++.\n",
    "\n",
    "Variable names can not start with a digit, they are case sensitive, python key words can not be used a variable name."
   ]
  },
  {
   "cell_type": "code",
   "execution_count": 22,
   "id": "3f12137c",
   "metadata": {},
   "outputs": [
    {
     "name": "stdout",
     "output_type": "stream",
     "text": [
      "['False', 'None', 'True', 'and', 'as', 'assert', 'async', 'await', 'break', 'class', 'continue', 'def', 'del', 'elif', 'else', 'except', 'finally', 'for', 'from', 'global', 'if', 'import', 'in', 'is', 'lambda', 'nonlocal', 'not', 'or', 'pass', 'raise', 'return', 'try', 'while', 'with', 'yield']\n"
     ]
    }
   ],
   "source": [
    "#List of all keywords in python:\n",
    "\n",
    "import keyword\n",
    "print(keyword.kwlist)"
   ]
  },
  {
   "cell_type": "raw",
   "id": "f6681628",
   "metadata": {},
   "source": [
    "Concept of garbage box:"
   ]
  },
  {
   "cell_type": "code",
   "execution_count": 2,
   "id": "e43e540d",
   "metadata": {},
   "outputs": [
    {
     "name": "stdout",
     "output_type": "stream",
     "text": [
      "4309214552\n"
     ]
    }
   ],
   "source": [
    "x=5 #Defined value of x as 5. This will create an object (instance object) in the memory of python and will assign the value 5.\n",
    "    #The variable x points to that location in the memory where 5 is stored. It dont point to the value 5 directly\n",
    "\n",
    "#To get this object location in memory where 5 is saved:\n",
    "print(id(x))"
   ]
  },
  {
   "cell_type": "code",
   "execution_count": 3,
   "id": "4b46a53a",
   "metadata": {},
   "outputs": [
    {
     "name": "stdout",
     "output_type": "stream",
     "text": [
      "4309214648\n"
     ]
    }
   ],
   "source": [
    "x=8\n",
    "\n",
    "print(id(x))\n",
    "\n",
    "#In this case, another block in memory is created and 8 is assigned to it. x now points to this block. \n",
    "#The previous memory location, where its assigned as 5, no variable points to it now. So its a garable box for python."
   ]
  },
  {
   "cell_type": "markdown",
   "id": "f4b55f06",
   "metadata": {},
   "source": [
    "# NAME & HEAP SPACE IN MEMORY:"
   ]
  },
  {
   "cell_type": "raw",
   "id": "ecdf3a69",
   "metadata": {},
   "source": [
    "Name space is the location in memory where all the variables are stored that is x,y,z and Heap space stores the object that was created when we assign a value to a variable. \n",
    "\n",
    "For example, when we assign x=90. The name space will store x and the heapspace will store the object that was created when this assignment was done and has value of 9 stored into it.\n",
    "\n",
    "So when we assign x=100, then the object which had 90 in its memory will be a garbage box and that will be in heap space. \n",
    "\n",
    "So, by deleting a variable : del(x) will only the delete the variable from name space and in the memory the object assigned to this will still exit. This will be taken down by the automatic memory management of python."
   ]
  },
  {
   "cell_type": "markdown",
   "id": "0bbfb41a",
   "metadata": {},
   "source": [
    "# DATA TYPES:"
   ]
  },
  {
   "cell_type": "raw",
   "id": "c9b38277",
   "metadata": {},
   "source": [
    "Python has following data types (these are objects and have its own parent class):\n",
    "\n",
    "1.Numbers: Int,Float,Complex\n",
    "\n",
    "2.Boolean: True,False\n",
    "\n",
    "3.String\n",
    "\n",
    "4.Sequence: List, Tuple,Range\n",
    "\n",
    "5.Binary: Byte, Byte Array, Memory View\n",
    "\n",
    "6.Mapping: Dictionary\n",
    "\n",
    "7.Set: Set, Frozen Set\n",
    "\n",
    "All these data types are classes. We use them as an object of the class. It will be more clear when I will discuss Object Oriented Programing in detail."
   ]
  },
  {
   "cell_type": "markdown",
   "id": "7199d12c",
   "metadata": {},
   "source": [
    "#### MUTABILITY AND HASHABILITY"
   ]
  },
  {
   "cell_type": "raw",
   "id": "ab4ce769",
   "metadata": {},
   "source": [
    "Mutable Objects: These are objects whose value can be changed after they are created. Mutable objects include:\n",
    "\n",
    "1.lists\n",
    "2.dictionaries\n",
    "3.sets\n",
    "\n",
    "Since their content can change, they cannot be used as keys in dictionaries or elements of sets.\n",
    "\n",
    "Hashable Objects: An object is hashable if it has a hash value that never changes during its lifetime (it needs a __hash__() method), and it can be compared to other objects (it needs an __eq__() method). \n",
    "\n",
    "Hashable objects can be used as keys in dictionaries and as elements in sets. Immutable objects like integers, floats, strings, and tuples are typically hashable.\n",
    "\n",
    "NOTE: Tuples are immutable, so in general, they are hashable. However, if a tuple contains any mutable objects (like lists), it becomes unhashable."
   ]
  },
  {
   "cell_type": "markdown",
   "id": "3d70b5d1",
   "metadata": {
    "slideshow": {
     "slide_type": "-"
    }
   },
   "source": [
    "# MODULE, PACKAGE & LIB:"
   ]
  },
  {
   "cell_type": "raw",
   "id": "f39731db",
   "metadata": {
    "slideshow": {
     "slide_type": "-"
    }
   },
   "source": [
    "Module:\n",
    "It is a collection of instance objects, function objects, and class objects. In simple terms it is the file that contains python code i.e. file.py\n",
    "\n",
    "Package:\n",
    "Its an collection of modules (that is multiple .py files) and sub packages. A package also consists of special file names __init__.py. This special file can be kept empty or can contain other modules or sub packages.\n",
    "\n",
    "Example: A directory named financial containing __init__.py, taxes.py, and investments.py modules is a package. \n",
    "You can access the modules using import financial.taxes or import financial.investments.\n",
    "\n",
    "Library: Its an collection of packages. It's not limited to a single file or package, but instead it can be a distribution of several packages and modules."
   ]
  },
  {
   "cell_type": "code",
   "execution_count": 13,
   "id": "086c7b4c",
   "metadata": {},
   "outputs": [
    {
     "name": "stdout",
     "output_type": "stream",
     "text": [
      "My series is 0    1\n",
      "1    2\n",
      "2    3\n",
      "dtype: int64\n"
     ]
    }
   ],
   "source": [
    "import pandas #Lib.\n",
    "from pandas import Series #Series is a module that we imported from lib pandas!\n",
    "\n",
    "#Another way\n",
    "import pandas as pd\n",
    "y=pd.Series([1,2,3])\n",
    "print('My series is',y)"
   ]
  },
  {
   "cell_type": "markdown",
   "id": "e11c3b8d",
   "metadata": {},
   "source": [
    "#### How to use variables and functions defined in one jupiter notebook into another one:"
   ]
  },
  {
   "cell_type": "code",
   "execution_count": 19,
   "id": "7103db68",
   "metadata": {},
   "outputs": [
    {
     "name": "stdout",
     "output_type": "stream",
     "text": [
      "enter your name.....jasyot\n",
      "The lenght of your name is 6\n",
      "genesis\n"
     ]
    }
   ],
   "source": [
    "#Use the %run command:\n",
    "\n",
    "%run A1_Module.ipynb\n",
    "\n",
    "#call required function:\n",
    "myfunc() \n",
    "\n",
    "#call required variable:\n",
    "print(var3)"
   ]
  },
  {
   "cell_type": "markdown",
   "id": "548973b8",
   "metadata": {},
   "source": [
    "# INPUT FROM USER:"
   ]
  },
  {
   "cell_type": "raw",
   "id": "3939ad8d",
   "metadata": {
    "raw_mimetype": "text/markdown"
   },
   "source": [
    "To take input from user we always use input(). The o/p of this function is a string by default but we can convert it into int, float,bool etc."
   ]
  },
  {
   "cell_type": "code",
   "execution_count": 26,
   "id": "a99b31a1",
   "metadata": {},
   "outputs": [
    {
     "name": "stdout",
     "output_type": "stream",
     "text": [
      "enter age3\n"
     ]
    }
   ],
   "source": [
    "x=input(\"enter age\")"
   ]
  },
  {
   "cell_type": "code",
   "execution_count": 27,
   "id": "279d6add",
   "metadata": {},
   "outputs": [
    {
     "data": {
      "text/plain": [
       "str"
      ]
     },
     "execution_count": 27,
     "metadata": {},
     "output_type": "execute_result"
    }
   ],
   "source": [
    "type(x)"
   ]
  },
  {
   "cell_type": "code",
   "execution_count": 28,
   "id": "ef4c9856",
   "metadata": {},
   "outputs": [
    {
     "name": "stdout",
     "output_type": "stream",
     "text": [
      "enter age4\n"
     ]
    }
   ],
   "source": [
    "x=int(input(\"enter age\"))"
   ]
  },
  {
   "cell_type": "code",
   "execution_count": 29,
   "id": "4f401987",
   "metadata": {},
   "outputs": [
    {
     "data": {
      "text/plain": [
       "int"
      ]
     },
     "execution_count": 29,
     "metadata": {},
     "output_type": "execute_result"
    }
   ],
   "source": [
    "type(x)"
   ]
  },
  {
   "cell_type": "markdown",
   "id": "c05e985e",
   "metadata": {},
   "source": [
    "# eval() FUNCTION"
   ]
  },
  {
   "cell_type": "raw",
   "id": "dbdad900",
   "metadata": {},
   "source": [
    "The eval() function in Python is a built-in function that parses and evaluates a given expression, which is passed to it as a string. It returns the result of the evaluated expression. Here's a detailed explanation:"
   ]
  },
  {
   "cell_type": "code",
   "execution_count": null,
   "id": "8d1eee1b",
   "metadata": {},
   "outputs": [],
   "source": [
    "eval(expression, globals=None, locals=None)"
   ]
  },
  {
   "cell_type": "raw",
   "id": "3bd65e31",
   "metadata": {},
   "source": [
    "expression: A string containing a valid Python expression. For example, '2 + 3'.\n",
    "\n",
    "globals (optional): A dictionary to specify global parameters. If omitted, it defaults to the global namespace where eval() is called.\n",
    "\n",
    "locals (optional): A dictionary to specify local parameters. If omitted, it defaults to the local namespace where eval() is called."
   ]
  },
  {
   "cell_type": "code",
   "execution_count": 31,
   "id": "9fddd943",
   "metadata": {},
   "outputs": [
    {
     "data": {
      "text/plain": [
       "10"
      ]
     },
     "execution_count": 31,
     "metadata": {},
     "output_type": "execute_result"
    }
   ],
   "source": [
    "x = 7\n",
    "result = eval('x + 3')  # returns 10\n",
    "result"
   ]
  },
  {
   "cell_type": "code",
   "execution_count": 32,
   "id": "719577bc",
   "metadata": {},
   "outputs": [
    {
     "data": {
      "text/plain": [
       "5"
      ]
     },
     "execution_count": 32,
     "metadata": {},
     "output_type": "execute_result"
    }
   ],
   "source": [
    "x = 10\n",
    "scope = {'x': 2}\n",
    "eval('x + 3', scope)  # returns 5 instead of 13"
   ]
  },
  {
   "cell_type": "code",
   "execution_count": 33,
   "id": "bc234903",
   "metadata": {},
   "outputs": [
    {
     "data": {
      "text/plain": [
       "13"
      ]
     },
     "execution_count": 33,
     "metadata": {},
     "output_type": "execute_result"
    }
   ],
   "source": [
    "x = 10\n",
    "scope = {'x': 2}\n",
    "eval('x + 3')  # returns 13"
   ]
  },
  {
   "cell_type": "markdown",
   "id": "8635931b",
   "metadata": {},
   "source": [
    "# ENUMERATE FUNCTION"
   ]
  },
  {
   "cell_type": "raw",
   "id": "1578a498",
   "metadata": {},
   "source": [
    "The enumerate function in Python is a built-in function that adds a counter to an iterable and returns it as an enumerate object. This enumerate object can then be used to iterate over the iterable, yielding pairs containing a count (from start, which defaults to 0) and the values obtained from iterating over the iterable.\n",
    "\n",
    "When you use enumerate in a loop, it returns both the index and the value from the iterable. This is especially useful when you need to keep track of the index while iterating through an iterable."
   ]
  },
  {
   "cell_type": "code",
   "execution_count": 1,
   "id": "b40cb538",
   "metadata": {},
   "outputs": [
    {
     "name": "stdout",
     "output_type": "stream",
     "text": [
      "0 apple\n",
      "1 banana\n",
      "2 cherry\n"
     ]
    }
   ],
   "source": [
    "fruits = ['apple', 'banana', 'cherry']\n",
    "\n",
    "for index, fruit in enumerate(fruits):\n",
    "    print(index, fruit)"
   ]
  },
  {
   "cell_type": "code",
   "execution_count": 3,
   "id": "9abf5bf4",
   "metadata": {},
   "outputs": [
    {
     "name": "stdout",
     "output_type": "stream",
     "text": [
      "0 14\n",
      "1 15\n",
      "2 16\n",
      "3 16\n",
      "4 17\n"
     ]
    }
   ],
   "source": [
    "repeat = [14, 15, 16, 16, 17]\n",
    "\n",
    "for index,values in enumerate(repeat):\n",
    "    print(index,values)"
   ]
  },
  {
   "cell_type": "markdown",
   "id": "13a4565f",
   "metadata": {},
   "source": [
    "# LAMBDA FUNCTION"
   ]
  },
  {
   "cell_type": "raw",
   "id": "f0605f13",
   "metadata": {},
   "source": [
    "Lambda functions, also known as anonymous functions, are a feature in Python that allow you to create small, one-off functions without needing to formally define them using the standard def keyword.\n",
    "\n",
    "Lambda functions, also known as anonymous functions, are a feature in Python that allow you to create small, one-off functions without needing to formally define them using the standard def keyword.\n",
    "\n",
    "Characteristics of Lambda Functions:\n",
    "\n",
    "1.Single Expression: They can only contain a single expression. This expression is evaluated and returned.\n",
    "2.No Name: They do not have a name (hence 'anonymous').\n",
    "3.Versatility: Lambda functions can accept any number of arguments, but the expression can only be one.\n",
    "\n",
    "Syntax: \n",
    "The syntax for a lambda function is \"lambda arguments: expression\"\n",
    "                                     lambda a,b: a+b"
   ]
  },
  {
   "cell_type": "markdown",
   "id": "57816da4",
   "metadata": {},
   "source": [
    "# "
   ]
  }
 ],
 "metadata": {
  "kernelspec": {
   "display_name": "Python 3 (ipykernel)",
   "language": "python",
   "name": "python3"
  },
  "language_info": {
   "codemirror_mode": {
    "name": "ipython",
    "version": 3
   },
   "file_extension": ".py",
   "mimetype": "text/x-python",
   "name": "python",
   "nbconvert_exporter": "python",
   "pygments_lexer": "ipython3",
   "version": "3.11.7"
  }
 },
 "nbformat": 4,
 "nbformat_minor": 5
}
