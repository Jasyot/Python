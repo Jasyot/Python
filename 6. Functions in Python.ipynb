{
 "cells": [
  {
   "cell_type": "raw",
   "id": "cdd5ae65",
   "metadata": {},
   "source": [
    "Functions in Python are fundamental building blocks of the language. They allow you to encapsulate a task, making your code more modular, reusable, and readable.\n",
    "\n",
    "Definition: A function is defined using the def keyword, followed by the function name and parentheses. Parameters can be passed within these parentheses.\n",
    "\n",
    "Parameters: are variables listed inside the parentheses in the function definition.\n",
    "\n",
    "Arguments: are values passed to the function when it is called.\n",
    "\n",
    "Scope: Variables defined inside a function are local to that function (called as local variable), meaning they cannot be accessed from outside the function. However, a function can access variables defined outside of it."
   ]
  },
  {
   "cell_type": "code",
   "execution_count": null,
   "id": "1ab060ed",
   "metadata": {},
   "outputs": [],
   "source": [
    "def function_name(parameters):\n",
    "    # function body\n",
    "\n",
    "\n",
    "function_name(argument)"
   ]
  },
  {
   "cell_type": "raw",
   "id": "000204d0",
   "metadata": {},
   "source": [
    "Default and Keyword Arguments: Functions can have default values for arguments, which are used if no value is passed during the call. You can also call functions with keyword arguments, specifying the parameter names."
   ]
  },
  {
   "cell_type": "code",
   "execution_count": 11,
   "id": "e41169b8",
   "metadata": {},
   "outputs": [
    {
     "name": "stdout",
     "output_type": "stream",
     "text": [
      "Hello Jasyot\n"
     ]
    }
   ],
   "source": [
    "def greet(name, message=\"Hello\"):\n",
    "    print(message, name)\n",
    "    \n",
    "greet('Jasyot')"
   ]
  },
  {
   "cell_type": "raw",
   "id": "4ddf94e6",
   "metadata": {},
   "source": [
    "Types of Functions:\n",
    "\n",
    "1.Built-in Functions: Python comes with many built-in functions like print(), len(), etc.\n",
    "2.User-Defined Functions: Functions that you define yourself to perform a specific task."
   ]
  },
  {
   "cell_type": "raw",
   "id": "c5baf0f7",
   "metadata": {},
   "source": [
    "Example: I have two functions defined, in one function i will define the value of x and in another function i will use this value of x to square it:"
   ]
  },
  {
   "cell_type": "code",
   "execution_count": 9,
   "id": "d699eb3a",
   "metadata": {},
   "outputs": [
    {
     "name": "stdout",
     "output_type": "stream",
     "text": [
      "enter the number you want the square for.....?4\n",
      "the square of x is 16\n"
     ]
    }
   ],
   "source": [
    "def f1():\n",
    "    x=int(input(\"enter the number you want the square for.....?\"))\n",
    "    return x\n",
    "    print(\"the number required for square is\",x)\n",
    "    \n",
    "def f2():\n",
    "    x1=f1()\n",
    "    sq_x=x1**2\n",
    "    print('the square of x is',sq_x)\n",
    "\n",
    "\n",
    "f2()"
   ]
  },
  {
   "cell_type": "markdown",
   "id": "3f1c8a0a",
   "metadata": {},
   "source": [
    "#### *args and **kwargs:"
   ]
  },
  {
   "cell_type": "raw",
   "id": "25f5ea1a",
   "metadata": {},
   "source": [
    "Functions can be defined to accept an arbitrary number of arguments using *args for non-keyword arguments and **kwargs for keyword arguments."
   ]
  },
  {
   "cell_type": "code",
   "execution_count": null,
   "id": "ad1a0f6d",
   "metadata": {},
   "outputs": [],
   "source": [
    "def many_args(*args, **kwargs):\n",
    "    # args is a tuple of positional arguments\n",
    "    # kwargs is a dictionary of keyword arguments"
   ]
  },
  {
   "cell_type": "raw",
   "id": "b1d64a26",
   "metadata": {},
   "source": [
    "Create a function to register participants for an event. The function needs to be flexible, accepting a variable number of participants and their details. Also, it should handle optional additional information about each participant."
   ]
  },
  {
   "cell_type": "code",
   "execution_count": 12,
   "id": "0a8da3f3",
   "metadata": {},
   "outputs": [
    {
     "name": "stdout",
     "output_type": "stream",
     "text": [
      "Event Registration:\n",
      "- Participant: Alice\n",
      "  _email: alice@example.com\n",
      "- Participant: Bob\n",
      "  _age: 30\n"
     ]
    }
   ],
   "source": [
    "def register_participants(*args, **kwargs):\n",
    "    print(\"Event Registration:\")\n",
    "    for name in args:\n",
    "        print(f\"- Participant: {name}\")\n",
    "        for key, value in kwargs.items():\n",
    "            if key.startswith(name):\n",
    "                print(f\"  {key[len(name):]}: {value}\")\n",
    "\n",
    "# Example Usage\n",
    "register_participants(\"Alice\", \"Bob\", Alice_email=\"alice@example.com\", Bob_age=30)   "
   ]
  },
  {
   "cell_type": "raw",
   "id": "4a0fcfff",
   "metadata": {},
   "source": [
    "When you call register_participants(\"Alice\", \"Bob\", Alice_email=\"alice@example.com\", Bob_age=30), it processes two participants: \"Alice\" and \"Bob\".\n",
    "\n",
    "*args captures \"Alice\" and \"Bob\" as a tuple.\n",
    "\n",
    "**kwargs captures {\"Alice_email\": \"alice@example.com\", \"Bob_age\": 30} as a dictionary.\n",
    "\n",
    "The function iterates through each participant (from *args), and then checks **kwargs for additional details that start with the participant's name, like Alice_email for \"Alice\" and `Bob_age\" for \"Bob\"."
   ]
  },
  {
   "cell_type": "markdown",
   "id": "7a895497",
   "metadata": {},
   "source": [
    "#### Higher Order Functions"
   ]
  },
  {
   "cell_type": "raw",
   "id": "3360d37e",
   "metadata": {},
   "source": [
    "Higher-order functions in Python are functions that can either take other functions as arguments or return a function as their result, or both. \n",
    "\n",
    "This concept is a key part of functional programming but is also used in object-oriented programming. Python, being a multi-paradigm language, supports this feature and it's quite common in Pythonic code."
   ]
  },
  {
   "cell_type": "raw",
   "id": "9603c1a4",
   "metadata": {},
   "source": [
    "Accepts Functions as Arguments:\n",
    "A higher-order function can take one or more functions as parameters. This allows the behavior of the higher-order function to be modified, providing more flexibility and reusability.\n",
    "\n",
    "Returns a Function:\n",
    "A higher-order function can return another function. This is useful for function composition, where the result of one function needs to be used as the input for another.\n",
    "\n",
    "Can Do Both:\n",
    "Some higher-order functions both take functions as arguments and return a function."
   ]
  },
  {
   "cell_type": "raw",
   "id": "bac886d3",
   "metadata": {},
   "source": [
    "Examples of Higher-Order Functions in Python:"
   ]
  },
  {
   "cell_type": "raw",
   "id": "eafea618",
   "metadata": {},
   "source": [
    "1.map():\n",
    "\n",
    "Syntax is map(function Name ONLY,interables).\n",
    "\n",
    "->The map function takes a function and an iterable (like a list) as arguments.\n",
    "->It applies the function to every item of the iterable and returns a map object (which is an iterator).\n",
    "->For example"
   ]
  },
  {
   "cell_type": "code",
   "execution_count": 19,
   "id": "d9bad464",
   "metadata": {},
   "outputs": [],
   "source": [
    "my_map=map((lambda x: x * 2),([1, 2, 3])) #this will do the square of every number in the list"
   ]
  },
  {
   "cell_type": "code",
   "execution_count": 20,
   "id": "31d29322",
   "metadata": {},
   "outputs": [
    {
     "name": "stdout",
     "output_type": "stream",
     "text": [
      "2\n",
      "4\n",
      "6\n"
     ]
    }
   ],
   "source": [
    "#As map() provies an iterable, so we need to use for loop to access the elements:\n",
    "\n",
    "for data in my_map:\n",
    "    print(data)"
   ]
  },
  {
   "cell_type": "code",
   "execution_count": 31,
   "id": "6c27f8b3",
   "metadata": {},
   "outputs": [
    {
     "name": "stdout",
     "output_type": "stream",
     "text": [
      "number?3\n",
      "9\n",
      "number?34\n",
      "1156\n",
      "number?4\n",
      "16\n"
     ]
    }
   ],
   "source": [
    "def square(d):\n",
    "    \n",
    "    x=int(input(\"number?\"))\n",
    "    sq=x*x\n",
    "    return sq\n",
    "\n",
    "my_map=map(square,[1,2,3])\n",
    "\n",
    "for data in my_map:\n",
    "    print(data)"
   ]
  },
  {
   "cell_type": "raw",
   "id": "3bd3c102",
   "metadata": {},
   "source": [
    "Thus, map will take the function and pass the iterable in this function as an argument. So always make sure that we have a provision of argument defined in the function alredy."
   ]
  },
  {
   "cell_type": "raw",
   "id": "15e3da0b",
   "metadata": {},
   "source": [
    "2.filter():\n",
    "\n",
    "Syntax: filter(function name, iterable)\n",
    "\n",
    "->filter takes a function and an iterable. The function should return True or False.\n",
    "->filter creates an iterator from the elements of the iterable for which the function returns True.\n",
    "->For example:"
   ]
  },
  {
   "cell_type": "code",
   "execution_count": 33,
   "id": "990157e9",
   "metadata": {},
   "outputs": [
    {
     "name": "stdout",
     "output_type": "stream",
     "text": [
      "2\n",
      "4\n"
     ]
    }
   ],
   "source": [
    "my_filter=filter(lambda x: x % 2 == 0, [1, 2, 3, 4]) #This will filter out only even numbers\n",
    "\n",
    "for data in my_filter:\n",
    "    print(data)"
   ]
  },
  {
   "cell_type": "code",
   "execution_count": 37,
   "id": "5d40942b",
   "metadata": {},
   "outputs": [
    {
     "name": "stdout",
     "output_type": "stream",
     "text": [
      "0\n",
      "2\n",
      "4\n",
      "6\n",
      "8\n"
     ]
    }
   ],
   "source": [
    "def status(u):\n",
    "    \n",
    "        if u%2==0:\n",
    "            return True\n",
    "        else:\n",
    "            return False\n",
    "        \n",
    "my_filter=filter(status,list(range(0,10)))\n",
    "\n",
    "for data in my_filter:\n",
    "    print(data)"
   ]
  },
  {
   "cell_type": "raw",
   "id": "0f90c9a8",
   "metadata": {},
   "source": [
    "3. reduce() (from the functools module):\n",
    "\n",
    "syntax: reduce(filter name, iterable)\n",
    "\n",
    "->This function takes a function and an iterable. The function should take two arguments.\n",
    "->It dont create any iterable unlike filter and map functions.\n",
    "->It applies the function cumulatively to the items of the iterable, from left to right, so as to reduce the iterable to a single value.\n",
    "\n",
    "Example: "
   ]
  },
  {
   "cell_type": "code",
   "execution_count": 43,
   "id": "6b62a708",
   "metadata": {},
   "outputs": [
    {
     "data": {
      "text/plain": [
       "10"
      ]
     },
     "execution_count": 43,
     "metadata": {},
     "output_type": "execute_result"
    }
   ],
   "source": [
    "from functools import reduce\n",
    "\n",
    "my_red = reduce(lambda x, y: x + y, [1, 2, 3, 4]) #will sum up the values in the list.\n",
    "\n",
    "my_red"
   ]
  },
  {
   "cell_type": "raw",
   "id": "4975ade1",
   "metadata": {},
   "source": [
    "4. Decorators:\n",
    "\n",
    "Decorators are function that will take function as an argument and will return a new function with adding some funcationality to the orignal function."
   ]
  }
 ],
 "metadata": {
  "kernelspec": {
   "display_name": "Python 3 (ipykernel)",
   "language": "python",
   "name": "python3"
  },
  "language_info": {
   "codemirror_mode": {
    "name": "ipython",
    "version": 3
   },
   "file_extension": ".py",
   "mimetype": "text/x-python",
   "name": "python",
   "nbconvert_exporter": "python",
   "pygments_lexer": "ipython3",
   "version": "3.11.7"
  }
 },
 "nbformat": 4,
 "nbformat_minor": 5
}
