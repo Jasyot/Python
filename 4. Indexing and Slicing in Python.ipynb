{
 "cells": [
  {
   "cell_type": "raw",
   "id": "e3aab312",
   "metadata": {},
   "source": [
    "In Python, indexing and slicing are concepts used to access and manipulate sequences like strings, lists, and tuples"
   ]
  },
  {
   "cell_type": "markdown",
   "id": "78d0fb07",
   "metadata": {},
   "source": [
    "# INDEXING"
   ]
  },
  {
   "cell_type": "raw",
   "id": "d1f17289",
   "metadata": {},
   "source": [
    "Indexing:\n",
    "\n",
    "Indexing is used to access an individual element of a sequence. Python uses zero-based indexing, meaning the first element of the sequence has an index of 0, the second an index of 1, and so on."
   ]
  },
  {
   "cell_type": "code",
   "execution_count": 1,
   "id": "79359571",
   "metadata": {},
   "outputs": [
    {
     "name": "stdout",
     "output_type": "stream",
     "text": [
      "10\n",
      "40\n"
     ]
    }
   ],
   "source": [
    "my_list = [10, 20, 30, 40, 50]\n",
    "print(my_list[0])  # Output: 10\n",
    "print(my_list[3])  # Output: 40"
   ]
  },
  {
   "cell_type": "raw",
   "id": "02dcca84",
   "metadata": {},
   "source": [
    "Python also supports negative indexing, where -1 refers to the last item, -2 to the second-to-last item, and so forth."
   ]
  },
  {
   "cell_type": "code",
   "execution_count": 2,
   "id": "79d4d6a4",
   "metadata": {},
   "outputs": [
    {
     "name": "stdout",
     "output_type": "stream",
     "text": [
      "50\n",
      "30\n"
     ]
    }
   ],
   "source": [
    "print(my_list[-1])  # Output: 50\n",
    "print(my_list[-3])  # Output: 30"
   ]
  },
  {
   "cell_type": "markdown",
   "id": "730e9547",
   "metadata": {},
   "source": [
    "# SLICING:"
   ]
  },
  {
   "cell_type": "raw",
   "id": "e6e561c6",
   "metadata": {},
   "source": [
    "Slicing is used to access a range of elements from a sequence. It allows you to extract a subsequence from a sequence.\n",
    "\n",
    "syntax:\n",
    "sequence[start:stop:step]\n",
    "\n",
    "1. start: The starting index of the slice (inclusive). If omitted, slicing starts at the beginning of the sequence.\n",
    "2. stop: The ending index of the slice (exclusive). If omitted, slicing goes to the end of the sequence.\n",
    "3. step: The step size or increment. If omitted, the step size is 1.\n",
    "\n",
    "Slicing a sequence creates a new sequence with the requested elements but does not modify the original sequence."
   ]
  },
  {
   "cell_type": "code",
   "execution_count": 3,
   "id": "b036b952",
   "metadata": {},
   "outputs": [
    {
     "name": "stdout",
     "output_type": "stream",
     "text": [
      "[20, 30, 40]\n",
      "[10, 30, 50]\n"
     ]
    }
   ],
   "source": [
    "# Slicing a list\n",
    "print(my_list[1:4])  # Output: [20, 30, 40]\n",
    "print(my_list[::2])  # Output: [10, 30, 50] (every second element)"
   ]
  },
  {
   "cell_type": "raw",
   "id": "2293a57c",
   "metadata": {},
   "source": [
    "You can use negative values for start and stop as well. A negative step size can be used to reverse a sequence."
   ]
  },
  {
   "cell_type": "code",
   "execution_count": 4,
   "id": "235446ef",
   "metadata": {},
   "outputs": [
    {
     "name": "stdout",
     "output_type": "stream",
     "text": [
      "[50, 40, 30, 20, 10]\n"
     ]
    }
   ],
   "source": [
    "# Reversing a list\n",
    "print(my_list[::-1])  # Output: [50, 40, 30, 20, 10]"
   ]
  },
  {
   "cell_type": "markdown",
   "id": "10c9635b",
   "metadata": {},
   "source": [
    "# NOTE"
   ]
  },
  {
   "cell_type": "raw",
   "id": "9b6dc8a6",
   "metadata": {},
   "source": [
    "In Python, the following data types support indexing and slicing:\n",
    "\n",
    "Strings\n",
    "List\n",
    "Tuples\n",
    "Arrays\n",
    "Numpy Array"
   ]
  }
 ],
 "metadata": {
  "kernelspec": {
   "display_name": "Python 3 (ipykernel)",
   "language": "python",
   "name": "python3"
  },
  "language_info": {
   "codemirror_mode": {
    "name": "ipython",
    "version": 3
   },
   "file_extension": ".py",
   "mimetype": "text/x-python",
   "name": "python",
   "nbconvert_exporter": "python",
   "pygments_lexer": "ipython3",
   "version": "3.11.7"
  }
 },
 "nbformat": 4,
 "nbformat_minor": 5
}
