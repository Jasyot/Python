{
 "cells": [
  {
   "cell_type": "raw",
   "id": "8a48dd4a",
   "metadata": {},
   "source": [
    "Data structures are essential for storing and organizing data in a way that allows for efficient operations. In Python, there are several built-in data structures that you can use. Let's go through them step by step:"
   ]
  },
  {
   "cell_type": "raw",
   "id": "8c3bccca",
   "metadata": {},
   "source": [
    "Concatenation in data structures:\n",
    "In Python, concatenation is primarily used with sequences, a type of data structure that allows you to store multiple values. The following data types support concatenation:\n",
    "\n",
    "1.Strings: Concatenation of strings involves combining them into a single string. For example, \"Hello \" + \"World\" results in \"Hello World\".\n",
    "\n",
    "2.Lists: You can concatenate lists by joining them to create a new list. For instance, [1, 2] + [3, 4] results in [1, 2, 3, 4].\n",
    "\n",
    "3.Tuples: Like lists, tuples can be concatenated. For example, (1, 2) + (3, 4) results in (1, 2, 3, 4).\n",
    "\n",
    "There are other data types in Python, like dictionaries and sets, but they do not support concatenation in the same way as strings, lists, and tuples. For these types, you would typically use methods like update() to combine contents"
   ]
  },
  {
   "cell_type": "markdown",
   "id": "a4880fb1",
   "metadata": {},
   "source": [
    "# LIST"
   ]
  },
  {
   "cell_type": "raw",
   "id": "847729ff",
   "metadata": {},
   "source": [
    "Lists are mutable sequences, typically used to store collections of homogeneous items (items of the same type).\n",
    "\n",
    "Creating Lists: \n",
    "Use square brackets [] or the list() function."
   ]
  },
  {
   "cell_type": "raw",
   "id": "97b8c0d9",
   "metadata": {},
   "source": [
    "Common Methods: List in Python come with a set of built-in methods for common tasks:\n",
    "\n",
    "1.Accessing Elements: Via zero-based index, e.g., my_list[0] for the first element. #not list method\n",
    "\n",
    "2.Slicing: Getting a sub-part of the list, e.g., my_list[1:3]. #not list method\n",
    "\n",
    "3.Appending: Adding elements to the end, e.g., my_list.append(4).\n",
    "\n",
    "4.Extending: Concatenating another list, e.g., my_list.extend([5, 6]).\n",
    "\n",
    "5.Inserting: Inserting an item at a specific position, e.g., my_list.insert(1, 'a').\n",
    "\n",
    "6.Removing: Removing an item, e.g., my_list.remove('a').\n",
    "\n",
    "7.pop([i]): Removes the item at the given position in the list and returns it. If no index is specified, pop() removes and returns the last item in the list.\n",
    "\n",
    "8.clear(): Removes all items from the list.\n",
    "\n",
    "9.index(x[, start[, end]]): Returns the index of the first item whose value is equal to x.\n",
    "\n",
    "10.count(x): Returns the number of times x appears in the list.\n",
    "\n",
    "11.sort(key=None, reverse=False): Sorts the items of the list in place.\n",
    "\n",
    "12.reverse(): Reverses the elements of the list in place.\n",
    "\n",
    "All these above methods/functions belong to the class list thus they are called attributes of list."
   ]
  },
  {
   "cell_type": "markdown",
   "id": "6e8cf4ba",
   "metadata": {},
   "source": [
    "#### LIST COMPREHENSION"
   ]
  },
  {
   "cell_type": "raw",
   "id": "83a20551",
   "metadata": {},
   "source": [
    "List comprehension is a concise and efficient way to create lists in Python. It provides a more readable and expressive syntax for creating a new list based on an existing list or any iterable object. Here's a basic overview:"
   ]
  },
  {
   "cell_type": "code",
   "execution_count": null,
   "id": "4b66d529",
   "metadata": {},
   "outputs": [],
   "source": [
    "new_list = [expression for item in iterable if condition]\n",
    "\n",
    "#expression is the action what we want on the item to occor and store in the list."
   ]
  },
  {
   "cell_type": "code",
   "execution_count": 2,
   "id": "6135a65f",
   "metadata": {},
   "outputs": [
    {
     "data": {
      "text/plain": [
       "[0, 4, 16]"
      ]
     },
     "execution_count": 2,
     "metadata": {},
     "output_type": "execute_result"
    }
   ],
   "source": [
    "# Create a list of squares for even numbers from 0 to 4\n",
    "even_squares = [x**2 for x in range(5) if x % 2 == 0]  # Output: [0, 4, 16]\n",
    "even_squares"
   ]
  },
  {
   "cell_type": "markdown",
   "id": "b8148ace",
   "metadata": {},
   "source": [
    "# STRINGS"
   ]
  },
  {
   "cell_type": "raw",
   "id": "4502239f",
   "metadata": {},
   "source": [
    "A string in Python is a sequence of characters. It can include letters, numbers, symbols, and whitespaces. Strings are created by enclosing characters in quotes. You can use either single, double, or triple quotes for multi-line strings."
   ]
  },
  {
   "cell_type": "raw",
   "id": "8cac79ab",
   "metadata": {},
   "source": [
    "Common Methods: Strings in Python come with a set of built-in methods for common tasks:\n",
    "\n",
    "1.upper(), lower(): Changing case.\n",
    "\n",
    "2.strip(): Removing whitespace.\n",
    "\n",
    "3.split(): Splitting a string into a list of substrings.\n",
    "\n",
    "4.join(): Joining a list of strings into a single string.\n",
    "\n",
    "5.find(), index(): Searching for substrings.\n",
    "\n",
    "6.replace(): Replacing parts of a string.\n",
    "\n",
    "7.format(): Formatting strings\n",
    "\n",
    "8.capitalize(): Returns a copy of the string with its first character capitalized and the rest lowercased.\n",
    "\n",
    "9.endswith(suffix[, start[, end]]): Returns True if the string ends with the specified suffix; otherwise, False.\n",
    "\n",
    "10.isalnum(): Returns True if all characters in the string are alphanumeric and there is at least one character; otherwise, False.\n",
    "\n",
    "11.isalpha(): Returns True if all characters in the string are alphabetic and there is at least one character; otherwise, False.\n",
    "\n",
    "12.isdigit(): Returns True if all characters in the string are digits and there is at least one character; otherwise, False.\n",
    "\n",
    "13.isdecimal(): Returns True if all characters in the string are decimal characters and there is at least one character; otherwise, False.\n",
    "\n",
    "14.islower(): Returns True if all cased characters in the string are lowercase and there is at least one cased character; otherwise, False.\n",
    "\n",
    "15.isnumeric(): Returns True if all characters in the string are numeric characters, and there is at least one character; otherwise, False.\n",
    "\n",
    "16.isupper(): Returns True if all cased characters in the string are uppercase and there is at least one cased character; otherwise, False."
   ]
  },
  {
   "cell_type": "raw",
   "id": "f33e9048",
   "metadata": {},
   "source": [
    "String Formatting: Python provides several ways to format strings:\n",
    "\n",
    "Old style: Using % operator.\n",
    "New style: Using str.format().\n",
    "F-strings (from Python 3.6): Embedding expressions inside string literals, prefixed with f or F"
   ]
  },
  {
   "cell_type": "code",
   "execution_count": 4,
   "id": "a686e520",
   "metadata": {},
   "outputs": [
    {
     "data": {
      "text/plain": [
       "'My name is John and I am 30 years old.'"
      ]
     },
     "execution_count": 4,
     "metadata": {},
     "output_type": "execute_result"
    }
   ],
   "source": [
    "name = \"John\"\n",
    "age = 30\n",
    "s = f\"My name is {name} and I am {age} years old.\"  # \"My name is John and I am 30 years old.\"\n",
    "s"
   ]
  },
  {
   "cell_type": "raw",
   "id": "c25fef1b",
   "metadata": {},
   "source": [
    "Comparison of strings in Python is a straightforward process, primarily based on the lexicographical ordering of the strings. This ordering is similar to how words are ordered in a dictionary. Here's a detailed explanation:"
   ]
  },
  {
   "cell_type": "code",
   "execution_count": 5,
   "id": "949e5451",
   "metadata": {},
   "outputs": [
    {
     "data": {
      "text/plain": [
       "False"
      ]
     },
     "execution_count": 5,
     "metadata": {},
     "output_type": "execute_result"
    }
   ],
   "source": [
    "\"apple\" < \"banana\"  # True, because 'a' is less than 'b'\n",
    "\"apple\" > \"apricot\" # False, because 'p' is not greater than 'r'"
   ]
  },
  {
   "cell_type": "markdown",
   "id": "1eec3a8d",
   "metadata": {},
   "source": [
    "# TUPLE"
   ]
  },
  {
   "cell_type": "raw",
   "id": "40b258a5",
   "metadata": {},
   "source": [
    "Tuple is a fundamental data structure that's similar to a list but has a few key differences. Tuples can contain elements of different data types, including integers, floats, strings, other tuples, lists, and so forth.\n",
    "\n",
    "Common functions like len(), max(), min(), sum() work with tuples. However, due to immutability, methods for adding or removing elements are not available. Methods like count() and index() are available"
   ]
  },
  {
   "cell_type": "code",
   "execution_count": 6,
   "id": "dd90036e",
   "metadata": {},
   "outputs": [
    {
     "name": "stdout",
     "output_type": "stream",
     "text": [
      "2\n",
      "2\n"
     ]
    }
   ],
   "source": [
    "my_tuple = (1, 2, 3, 2, 4)\n",
    "print(my_tuple.count(2))  # Output: 2\n",
    "print(my_tuple.index(3))  # Output: 2"
   ]
  },
  {
   "cell_type": "raw",
   "id": "b513a1bb",
   "metadata": {},
   "source": [
    "Tuples are typically used for heterogeneous (different) data types and are generally used where immutability is required. They are also commonly used for returning multiple values from a function"
   ]
  },
  {
   "cell_type": "markdown",
   "id": "dca82351",
   "metadata": {},
   "source": [
    "# SETS"
   ]
  },
  {
   "cell_type": "raw",
   "id": "3c7e0e24",
   "metadata": {},
   "source": [
    "Sets in Python are a versatile and powerful collection type that allow for efficient handling of unique elements."
   ]
  },
  {
   "cell_type": "raw",
   "id": "29ba78e5",
   "metadata": {},
   "source": [
    "Characteristics of Sets:\n",
    "\n",
    "1.Unordered: Sets do not maintain the order of elements. This means you cannot rely on items being at a particular index.\n",
    "\n",
    "2.Mutable: You can add or remove items from a set.\n",
    "\n",
    "3.Unique Elements: Sets automatically remove duplicates. Only one instance of an element exists in a set."
   ]
  },
  {
   "cell_type": "raw",
   "id": "664599d7",
   "metadata": {},
   "source": [
    "Creation of sets: Sets are created using curly braces {} or the set() function."
   ]
  },
  {
   "cell_type": "code",
   "execution_count": 8,
   "id": "6a20326c",
   "metadata": {},
   "outputs": [],
   "source": [
    "my_set = {1, 2, 3}\n",
    "another_set = set([4, 5, 6])  # Creating from a list\n",
    "empty_set = set()  # An empty set"
   ]
  },
  {
   "cell_type": "raw",
   "id": "921bc0e8",
   "metadata": {},
   "source": [
    "Set comprehensions:\n",
    "\n",
    "Set comprehensions allow sets to be constructed using an expression, a for clause, and zero or more for or if clauses."
   ]
  },
  {
   "cell_type": "code",
   "execution_count": 17,
   "id": "2c03ba3d",
   "metadata": {},
   "outputs": [
    {
     "data": {
      "text/plain": [
       "{0, 2, 4, 6, 8}"
      ]
     },
     "execution_count": 17,
     "metadata": {},
     "output_type": "execute_result"
    }
   ],
   "source": [
    "{ x for x in range(10) if x % 2 == 0 }  # Set of even numbers from 0 to 9"
   ]
  },
  {
   "cell_type": "raw",
   "id": "0af61137",
   "metadata": {},
   "source": [
    "Immutable Sets (frozensets):\n",
    "\n",
    "frozenset(): Creates an immutable set. Useful as dictionary keys or elements of another set."
   ]
  },
  {
   "cell_type": "code",
   "execution_count": 12,
   "id": "483f2207",
   "metadata": {},
   "outputs": [],
   "source": [
    "immutable_set = frozenset([1, 2, 3])"
   ]
  },
  {
   "cell_type": "code",
   "execution_count": 13,
   "id": "77eba075",
   "metadata": {},
   "outputs": [
    {
     "data": {
      "text/plain": [
       "frozenset({1, 2, 3})"
      ]
     },
     "execution_count": 13,
     "metadata": {},
     "output_type": "execute_result"
    }
   ],
   "source": [
    "immutable_set"
   ]
  },
  {
   "cell_type": "raw",
   "id": "f6d7fd06",
   "metadata": {},
   "source": [
    "Common Methods: \n",
    "    \n",
    "1.add(element): Adds a single element to a set.\n",
    "2.update(*others): Updates the set, adding elements from all others."
   ]
  },
  {
   "cell_type": "code",
   "execution_count": 9,
   "id": "2d3720e4",
   "metadata": {},
   "outputs": [],
   "source": [
    "my_set.add(4)\n",
    "my_set.update([5, 6], {7, 8})"
   ]
  },
  {
   "cell_type": "code",
   "execution_count": 10,
   "id": "efcf23e2",
   "metadata": {},
   "outputs": [
    {
     "data": {
      "text/plain": [
       "{1, 2, 3, 4, 5, 6, 7, 8}"
      ]
     },
     "execution_count": 10,
     "metadata": {},
     "output_type": "execute_result"
    }
   ],
   "source": [
    "my_set"
   ]
  },
  {
   "cell_type": "raw",
   "id": "116f9b18",
   "metadata": {},
   "source": [
    "3.remove(element): Removes an element from the set. Raises a KeyError if the element is not found.\n",
    "\n",
    "4.discard(element): Removes an element from the set if present, but does nothing if the element is not found.\n",
    "\n",
    "5.pop(): Removes and returns an arbitrary element from the set. Raises a KeyError if the set is empty.\n",
    "\n",
    "6.clear(): Removes all elements from the set."
   ]
  },
  {
   "cell_type": "raw",
   "id": "f3705165",
   "metadata": {},
   "source": [
    "Set Operations:\n",
    "\n",
    "1.Union (| or union()): Combines elements from two sets without duplication.\n",
    "\n",
    "2.Intersection (& or intersection()): Returns elements common to both sets.\n",
    "\n",
    "3.Difference (- or difference()): Returns elements that are in one set but not in the other.\n",
    "\n",
    "4.Symmetric Difference (^ or symmetric_difference()): Returns elements that are in either of the sets but not in their intersection."
   ]
  },
  {
   "cell_type": "code",
   "execution_count": 11,
   "id": "fa6cb9ee",
   "metadata": {},
   "outputs": [
    {
     "data": {
      "text/plain": [
       "{1, 2, 4, 5}"
      ]
     },
     "execution_count": 11,
     "metadata": {},
     "output_type": "execute_result"
    }
   ],
   "source": [
    "a = {1, 2, 3}\n",
    "b = {3, 4, 5}\n",
    "a | b  # Union\n",
    "a & b  # Intersection\n",
    "a - b  # Difference\n",
    "a ^ b  # Symmetric Difference"
   ]
  },
  {
   "cell_type": "markdown",
   "id": "dbea9903",
   "metadata": {},
   "source": [
    "# DICTIONARY"
   ]
  },
  {
   "cell_type": "raw",
   "id": "cab2cd1b",
   "metadata": {},
   "source": [
    "Dictionary (often abbreviated as dict) is a powerful data type that stores elements as key-value pairs. It's a mutable, dynamic, and unordered collection, making it one of the most commonly used data types for storing and retrieving data efficiently.\n",
    "\n",
    "Key-Value Pairs: Each element in a dictionary is stored as a key-value pair. The key acts as an identifier for the value it's associated with.\n",
    "\n",
    "Unordered: Prior to Python 3.7, dictionaries were unordered, meaning the order of insertion of keys did not matter. However, starting from Python 3.7, dictionaries maintain the order of insertion.\n",
    "\n",
    "Mutable: Dictionaries can be modified. You can add, remove, and change the value of items after the dictionary is created.\n",
    "\n",
    "Keys Must be Immutable: The keys of a dictionary must be of an immutable type (e.g., strings, numbers, or tuples containing immutable elements).\n",
    "\n",
    "Unique Keys: Each key must be unique within a dictionary."
   ]
  },
  {
   "cell_type": "raw",
   "id": "29f416d8",
   "metadata": {},
   "source": [
    "Creating Dictionaries:\n",
    "\n",
    "You can create a dictionary by placing a comma-separated list of key-value pairs within curly braces {}, or by using the dict() constructor."
   ]
  },
  {
   "cell_type": "code",
   "execution_count": 14,
   "id": "95529776",
   "metadata": {},
   "outputs": [
    {
     "name": "stdout",
     "output_type": "stream",
     "text": [
      "{'name': 'Alice', 'age': 25}\n",
      "{'name': 'Bob', 'age': 30}\n"
     ]
    }
   ],
   "source": [
    "# Using curly braces\n",
    "my_dict = {'name': 'Alice', 'age': 25}\n",
    "print(my_dict)\n",
    "\n",
    "# Using the dict() constructor\n",
    "another_dict = dict(name='Bob', age=30)\n",
    "print(another_dict)"
   ]
  },
  {
   "cell_type": "raw",
   "id": "7d3644a9",
   "metadata": {},
   "source": [
    "Common Methods:\n",
    "\n",
    "1.get(key, default): Returns the value for a key if it exists, else default.\n",
    "\n",
    "2.keys(): Returns a view object displaying a list of all keys.\n",
    "\n",
    "3.values(): Returns a view object displaying a list of all values.\n",
    "\n",
    "4.items(): Returns a view object with a list of key-value tuple pairs.\n",
    "\n",
    "5.update([other]): Updates the dictionary with elements from another dictionary or an iterable of key-value pairs."
   ]
  },
  {
   "cell_type": "code",
   "execution_count": 15,
   "id": "84700e81",
   "metadata": {},
   "outputs": [
    {
     "name": "stdout",
     "output_type": "stream",
     "text": [
      "{'a': 1, 'b': 3, 'c': 4}\n"
     ]
    }
   ],
   "source": [
    "# First dictionary\n",
    "dict1 = {\"a\": 1, \"b\": 2}\n",
    "\n",
    "# Second dictionary\n",
    "dict2 = {\"b\": 3, \"c\": 4}\n",
    "\n",
    "# Using update() to add elements of dict2 to dict1\n",
    "dict1.update(dict2)\n",
    "\n",
    "# dict1 after the update\n",
    "print(dict1)"
   ]
  },
  {
   "cell_type": "raw",
   "id": "318f5e21",
   "metadata": {},
   "source": [
    "6.clear(): Removes all items from the dictionary.\n",
    "\n",
    "\n",
    "You can loop through a dictionary using methods like keys(), values(), or items()."
   ]
  },
  {
   "cell_type": "code",
   "execution_count": 16,
   "id": "a5c855c9",
   "metadata": {},
   "outputs": [
    {
     "name": "stdout",
     "output_type": "stream",
     "text": [
      "name\n",
      "age\n",
      "Alice\n",
      "25\n",
      "name Alice\n",
      "age 25\n"
     ]
    }
   ],
   "source": [
    "# Loop through keys\n",
    "for key in my_dict.keys():\n",
    "    print(key)\n",
    "\n",
    "# Loop through values\n",
    "for value in my_dict.values():\n",
    "    print(value)\n",
    "\n",
    "# Loop through key-value pairs\n",
    "for key, value in my_dict.items():\n",
    "    print(key, value)"
   ]
  },
  {
   "cell_type": "raw",
   "id": "e56cce8c",
   "metadata": {},
   "source": [
    "Dict Comprehension:\n",
    "\n",
    "{key_expression: value_expression for item in iterable if condition}"
   ]
  },
  {
   "cell_type": "code",
   "execution_count": 18,
   "id": "9cde2a65",
   "metadata": {},
   "outputs": [
    {
     "name": "stdout",
     "output_type": "stream",
     "text": [
      "{0: 0, 1: 1, 2: 4, 3: 9, 4: 16, 5: 25}\n"
     ]
    }
   ],
   "source": [
    "squares = {x: x**2 for x in range(6)}\n",
    "print(squares)  # Output: {0: 0, 1: 1, 2: 4, 3: 9, 4: 16, 5: 25}"
   ]
  }
 ],
 "metadata": {
  "kernelspec": {
   "display_name": "Python 3 (ipykernel)",
   "language": "python",
   "name": "python3"
  },
  "language_info": {
   "codemirror_mode": {
    "name": "ipython",
    "version": 3
   },
   "file_extension": ".py",
   "mimetype": "text/x-python",
   "name": "python",
   "nbconvert_exporter": "python",
   "pygments_lexer": "ipython3",
   "version": "3.11.7"
  }
 },
 "nbformat": 4,
 "nbformat_minor": 5
}
