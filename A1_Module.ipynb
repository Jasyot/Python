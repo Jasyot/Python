{
 "cells": [
  {
   "cell_type": "code",
   "execution_count": 2,
   "id": "fddf2656",
   "metadata": {},
   "outputs": [],
   "source": [
    "mylist=list(range(1,3+1))"
   ]
  },
  {
   "cell_type": "code",
   "execution_count": 7,
   "id": "50ecad93",
   "metadata": {},
   "outputs": [
    {
     "data": {
      "text/plain": [
       "3"
      ]
     },
     "execution_count": 7,
     "metadata": {},
     "output_type": "execute_result"
    }
   ],
   "source": [
    "mylist[-1]"
   ]
  },
  {
   "cell_type": "code",
   "execution_count": 5,
   "id": "937115d3",
   "metadata": {},
   "outputs": [],
   "source": [
    "list2=list({1,2,3,5})"
   ]
  },
  {
   "cell_type": "code",
   "execution_count": 6,
   "id": "acaa34d1",
   "metadata": {},
   "outputs": [
    {
     "ename": "TypeError",
     "evalue": "unsupported operand type(s) for -: 'list' and 'list'",
     "output_type": "error",
     "traceback": [
      "\u001b[0;31m---------------------------------------------------------------------------\u001b[0m",
      "\u001b[0;31mTypeError\u001b[0m                                 Traceback (most recent call last)",
      "Cell \u001b[0;32mIn[6], line 1\u001b[0m\n\u001b[0;32m----> 1\u001b[0m mylist\u001b[38;5;241m-\u001b[39mlist2\n",
      "\u001b[0;31mTypeError\u001b[0m: unsupported operand type(s) for -: 'list' and 'list'"
     ]
    }
   ],
   "source": [
    "mylist-list2"
   ]
  },
  {
   "cell_type": "code",
   "execution_count": null,
   "id": "506f5706",
   "metadata": {},
   "outputs": [],
   "source": []
  }
 ],
 "metadata": {
  "kernelspec": {
   "display_name": "Python 3 (ipykernel)",
   "language": "python",
   "name": "python3"
  },
  "language_info": {
   "codemirror_mode": {
    "name": "ipython",
    "version": 3
   },
   "file_extension": ".py",
   "mimetype": "text/x-python",
   "name": "python",
   "nbconvert_exporter": "python",
   "pygments_lexer": "ipython3",
   "version": "3.11.7"
  }
 },
 "nbformat": 4,
 "nbformat_minor": 5
}
